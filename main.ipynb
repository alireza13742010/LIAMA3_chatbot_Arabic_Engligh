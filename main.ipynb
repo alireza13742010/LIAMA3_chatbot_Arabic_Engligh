import torch
import os
import warnings
from transformers import AutoModelForCausalLM, AutoTokenizer
import concurrent.futures
import requests
import re
import os
import html
import urllib.parse
from lingua import Language, LanguageDetectorBuilder
import EasyGoogleTranslate
import language_detector
import translaor
import chat_bot
warnings.filterwarnings('ignore')
current_directory = os.getcwd()
new_model="ai-medical-model"
save_path = os.path.join(current_directory, "models_liama3_chat_bot_healthcare", new_model)
def chat_bot_talk(text):
  Language_detect ={"PERSIAN":"fa", "GERMAN":"ge", "SPANISH": "es",
                  "FRENCH":"fr", "AFRIKAANS":"af", "ARABIC":"ar",
                  "ARMENIAN": "hy", "ENGLISH":"en"}
  tex,lan_detected = translaor(text)
  out = chat_bot(tex, save_path)
  translator_general = EasyGoogleTranslate(source_language='en',target_language=Language_detect[lan_detected],timeout=20)
  final_out = translator_general.translate(out)
  return final_out
